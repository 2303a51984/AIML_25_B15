{
  "nbformat": 4,
  "nbformat_minor": 0,
  "metadata": {
    "colab": {
      "provenance": [],
      "authorship_tag": "ABX9TyNhsnGf/PV7W4KjOsi1r3bK",
      "include_colab_link": true
    },
    "kernelspec": {
      "name": "python3",
      "display_name": "Python 3"
    },
    "language_info": {
      "name": "python"
    }
  },
  "cells": [
    {
      "cell_type": "markdown",
      "metadata": {
        "id": "view-in-github",
        "colab_type": "text"
      },
      "source": [
        "<a href=\"https://colab.research.google.com/github/2303a51984/AIML_25_B15/blob/main/2303A51984_06_15.ipynb\" target=\"_parent\"><img src=\"https://colab.research.google.com/assets/colab-badge.svg\" alt=\"Open In Colab\"/></a>"
      ]
    },
    {
      "cell_type": "code",
      "execution_count": 1,
      "metadata": {
        "colab": {
          "base_uri": "https://localhost:8080/"
        },
        "id": "LwhSrYMBKG9v",
        "outputId": "fd4efb69-c5fe-4807-e118-d1d68f0b16b2"
      },
      "outputs": [
        {
          "output_type": "stream",
          "name": "stdout",
          "text": [
            "  reasons_for_aging community  gender  age_impact  employment_impact  \\\n",
            "0  Lack of exercise     Rural    Male        True              False   \n",
            "1            Stress     Rural  Female        True               True   \n",
            "2  Lack of exercise     Rural  Female       False              False   \n",
            "3  Lack of exercise     Rural  Female        True              False   \n",
            "4         Poor diet     Urban    Male       False              False   \n",
            "\n",
            "   stress_impact doctor_visits_category  \n",
            "0          False                    70+  \n",
            "1          False                  51-70  \n",
            "2          False                  51-70  \n",
            "3           True                  18-30  \n",
            "4           True                  31-50  \n"
          ]
        }
      ],
      "source": [
        "import pandas as pd\n",
        "import numpy as np\n",
        "\n",
        "# Define the number of responses\n",
        "num_responses = 1000\n",
        "\n",
        "# Generate random responses\n",
        "df = pd.DataFrame({\n",
        "    'reasons_for_aging': [np.random.choice(['Poor diet', 'Lack of exercise', 'Stress', 'Genetics', 'Chronic diseases']) for _ in range(num_responses)],\n",
        "    'community': np.random.choice(['Rural', 'Urban', 'Suburban'], num_responses),\n",
        "    'gender': np.random.choice(['Male', 'Female'], num_responses),\n",
        "    'age_impact': np.random.choice([True, False], num_responses),\n",
        "    'employment_impact': np.random.choice([True, False], num_responses),\n",
        "    'stress_impact': np.random.choice([True, False], num_responses),\n",
        "    'doctor_visits_category': np.random.choice(['18-30', '31-50', '51-70', '70+'], num_responses)\n",
        "})\n",
        "\n",
        "# Print the first few rows\n",
        "print(df.head())"
      ]
    },
    {
      "cell_type": "code",
      "source": [
        "reason_counts = df['reasons_for_aging'].value_counts()\n",
        "print(reason_counts)"
      ],
      "metadata": {
        "colab": {
          "base_uri": "https://localhost:8080/"
        },
        "id": "G8gglXCwKgtj",
        "outputId": "1f0a1448-3940-422e-842e-e455035f7a7d"
      },
      "execution_count": 2,
      "outputs": [
        {
          "output_type": "stream",
          "name": "stdout",
          "text": [
            "reasons_for_aging\n",
            "Lack of exercise    218\n",
            "Stress              212\n",
            "Poor diet           205\n",
            "Chronic diseases    204\n",
            "Genetics            161\n",
            "Name: count, dtype: int64\n"
          ]
        }
      ]
    },
    {
      "cell_type": "code",
      "source": [
        "community_counts = df['community'].value_counts()\n",
        "print(community_counts)"
      ],
      "metadata": {
        "colab": {
          "base_uri": "https://localhost:8080/"
        },
        "id": "ilzw8mgiKlq2",
        "outputId": "befcb675-fc9c-4da3-ff7e-f60633debbbc"
      },
      "execution_count": 3,
      "outputs": [
        {
          "output_type": "stream",
          "name": "stdout",
          "text": [
            "community\n",
            "Rural       341\n",
            "Suburban    337\n",
            "Urban       322\n",
            "Name: count, dtype: int64\n"
          ]
        }
      ]
    },
    {
      "cell_type": "code",
      "source": [
        "gender_counts = df['gender'].value_counts()\n",
        "print(gender_counts)"
      ],
      "metadata": {
        "colab": {
          "base_uri": "https://localhost:8080/"
        },
        "id": "SPddOyezKpL1",
        "outputId": "b8ba7293-ac44-48e2-c492-b25b0f473835"
      },
      "execution_count": 4,
      "outputs": [
        {
          "output_type": "stream",
          "name": "stdout",
          "text": [
            "gender\n",
            "Male      524\n",
            "Female    476\n",
            "Name: count, dtype: int64\n"
          ]
        }
      ]
    },
    {
      "cell_type": "code",
      "source": [
        "impact_summary = df[['age_impact', 'employment_impact', 'stress_impact']].mean()\n",
        "print(impact_summary)"
      ],
      "metadata": {
        "colab": {
          "base_uri": "https://localhost:8080/"
        },
        "id": "ya0TYXQ8Ks7g",
        "outputId": "f04bb9d1-d716-4c5a-e5ca-f05d3e7a35a0"
      },
      "execution_count": 5,
      "outputs": [
        {
          "output_type": "stream",
          "name": "stdout",
          "text": [
            "age_impact           0.511\n",
            "employment_impact    0.497\n",
            "stress_impact        0.513\n",
            "dtype: float64\n"
          ]
        }
      ]
    },
    {
      "cell_type": "code",
      "source": [
        "doctor_visit_counts = df['doctor_visits_category'].value_counts()\n",
        "print(doctor_visit_counts)"
      ],
      "metadata": {
        "colab": {
          "base_uri": "https://localhost:8080/"
        },
        "id": "hc1KfP2fKweF",
        "outputId": "ac698434-2681-4c29-baf3-cd1af007cad9"
      },
      "execution_count": 6,
      "outputs": [
        {
          "output_type": "stream",
          "name": "stdout",
          "text": [
            "doctor_visits_category\n",
            "51-70    279\n",
            "70+      257\n",
            "18-30    240\n",
            "31-50    224\n",
            "Name: count, dtype: int64\n"
          ]
        }
      ]
    }
  ]
}